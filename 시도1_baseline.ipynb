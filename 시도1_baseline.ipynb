{
  "nbformat": 4,
  "nbformat_minor": 0,
  "metadata": {
    "colab": {
      "name": "시도1_baseline.ipynb",
      "provenance": []
    },
    "kernelspec": {
      "name": "python3",
      "display_name": "Python 3"
    },
    "accelerator": "GPU"
  },
  "cells": [
    {
      "cell_type": "markdown",
      "metadata": {
        "id": "MWXiV1ZEw-6t",
        "colab_type": "text"
      },
      "source": [
        "- 전반적인 EDA 후에 데이터 전처리 방향 더 생각해보기\n",
        "- 일단 생각하는 모델은 CNN"
      ]
    },
    {
      "cell_type": "code",
      "metadata": {
        "id": "46sPoTZsPB_b",
        "colab_type": "code",
        "colab": {}
      },
      "source": [
        "import pandas as pd\n",
        "import numpy as np\n",
        "import sklearn\n",
        "from sklearn.ensemble import RandomForestRegressor\n",
        "from sklearn.preprocessing import LabelEncoder"
      ],
      "execution_count": null,
      "outputs": []
    },
    {
      "cell_type": "code",
      "metadata": {
        "id": "Ypu6Kh-PT4ok",
        "colab_type": "code",
        "colab": {}
      },
      "source": [
        "data = pd.read_csv(\"/content/drive/My Drive/Colab Notebooks/201901-202003.csv\")"
      ],
      "execution_count": null,
      "outputs": []
    },
    {
      "cell_type": "code",
      "metadata": {
        "id": "dfRC22A9UADA",
        "colab_type": "code",
        "colab": {
          "base_uri": "https://localhost:8080/",
          "height": 204
        },
        "outputId": "b78df7c8-4755-44db-e593-06f52523b288"
      },
      "source": [
        "data.head()"
      ],
      "execution_count": null,
      "outputs": [
        {
          "output_type": "execute_result",
          "data": {
            "text/html": [
              "<div>\n",
              "<style scoped>\n",
              "    .dataframe tbody tr th:only-of-type {\n",
              "        vertical-align: middle;\n",
              "    }\n",
              "\n",
              "    .dataframe tbody tr th {\n",
              "        vertical-align: top;\n",
              "    }\n",
              "\n",
              "    .dataframe thead th {\n",
              "        text-align: right;\n",
              "    }\n",
              "</style>\n",
              "<table border=\"1\" class=\"dataframe\">\n",
              "  <thead>\n",
              "    <tr style=\"text-align: right;\">\n",
              "      <th></th>\n",
              "      <th>REG_YYMM</th>\n",
              "      <th>CARD_SIDO_NM</th>\n",
              "      <th>CARD_CCG_NM</th>\n",
              "      <th>STD_CLSS_NM</th>\n",
              "      <th>HOM_SIDO_NM</th>\n",
              "      <th>HOM_CCG_NM</th>\n",
              "      <th>AGE</th>\n",
              "      <th>SEX_CTGO_CD</th>\n",
              "      <th>FLC</th>\n",
              "      <th>CSTMR_CNT</th>\n",
              "      <th>AMT</th>\n",
              "      <th>CNT</th>\n",
              "    </tr>\n",
              "  </thead>\n",
              "  <tbody>\n",
              "    <tr>\n",
              "      <th>0</th>\n",
              "      <td>201901</td>\n",
              "      <td>강원</td>\n",
              "      <td>강릉시</td>\n",
              "      <td>건강보조식품 소매업</td>\n",
              "      <td>강원</td>\n",
              "      <td>강릉시</td>\n",
              "      <td>20s</td>\n",
              "      <td>1</td>\n",
              "      <td>1</td>\n",
              "      <td>4</td>\n",
              "      <td>311200</td>\n",
              "      <td>4</td>\n",
              "    </tr>\n",
              "    <tr>\n",
              "      <th>1</th>\n",
              "      <td>201901</td>\n",
              "      <td>강원</td>\n",
              "      <td>강릉시</td>\n",
              "      <td>건강보조식품 소매업</td>\n",
              "      <td>강원</td>\n",
              "      <td>강릉시</td>\n",
              "      <td>30s</td>\n",
              "      <td>1</td>\n",
              "      <td>2</td>\n",
              "      <td>7</td>\n",
              "      <td>1374500</td>\n",
              "      <td>8</td>\n",
              "    </tr>\n",
              "    <tr>\n",
              "      <th>2</th>\n",
              "      <td>201901</td>\n",
              "      <td>강원</td>\n",
              "      <td>강릉시</td>\n",
              "      <td>건강보조식품 소매업</td>\n",
              "      <td>강원</td>\n",
              "      <td>강릉시</td>\n",
              "      <td>30s</td>\n",
              "      <td>2</td>\n",
              "      <td>2</td>\n",
              "      <td>6</td>\n",
              "      <td>818700</td>\n",
              "      <td>6</td>\n",
              "    </tr>\n",
              "    <tr>\n",
              "      <th>3</th>\n",
              "      <td>201901</td>\n",
              "      <td>강원</td>\n",
              "      <td>강릉시</td>\n",
              "      <td>건강보조식품 소매업</td>\n",
              "      <td>강원</td>\n",
              "      <td>강릉시</td>\n",
              "      <td>40s</td>\n",
              "      <td>1</td>\n",
              "      <td>3</td>\n",
              "      <td>4</td>\n",
              "      <td>1717000</td>\n",
              "      <td>5</td>\n",
              "    </tr>\n",
              "    <tr>\n",
              "      <th>4</th>\n",
              "      <td>201901</td>\n",
              "      <td>강원</td>\n",
              "      <td>강릉시</td>\n",
              "      <td>건강보조식품 소매업</td>\n",
              "      <td>강원</td>\n",
              "      <td>강릉시</td>\n",
              "      <td>40s</td>\n",
              "      <td>1</td>\n",
              "      <td>4</td>\n",
              "      <td>3</td>\n",
              "      <td>1047300</td>\n",
              "      <td>3</td>\n",
              "    </tr>\n",
              "  </tbody>\n",
              "</table>\n",
              "</div>"
            ],
            "text/plain": [
              "   REG_YYMM CARD_SIDO_NM CARD_CCG_NM STD_CLSS_NM  ... FLC CSTMR_CNT      AMT  CNT\n",
              "0    201901           강원         강릉시  건강보조식품 소매업  ...   1         4   311200    4\n",
              "1    201901           강원         강릉시  건강보조식품 소매업  ...   2         7  1374500    8\n",
              "2    201901           강원         강릉시  건강보조식품 소매업  ...   2         6   818700    6\n",
              "3    201901           강원         강릉시  건강보조식품 소매업  ...   3         4  1717000    5\n",
              "4    201901           강원         강릉시  건강보조식품 소매업  ...   4         3  1047300    3\n",
              "\n",
              "[5 rows x 12 columns]"
            ]
          },
          "metadata": {
            "tags": []
          },
          "execution_count": 6
        }
      ]
    },
    {
      "cell_type": "code",
      "metadata": {
        "id": "NpxKCGFFVxtJ",
        "colab_type": "code",
        "colab": {}
      },
      "source": [
        "def grap_year(data):\n",
        "  data = str(data)\n",
        "  return int(data[:4])"
      ],
      "execution_count": null,
      "outputs": []
    },
    {
      "cell_type": "code",
      "metadata": {
        "id": "PTNCKQ8HWFIv",
        "colab_type": "code",
        "colab": {}
      },
      "source": [
        "def grap_month(data):\n",
        "  data = str(data)\n",
        "  return int(data[4:])"
      ],
      "execution_count": null,
      "outputs": []
    },
    {
      "cell_type": "code",
      "metadata": {
        "id": "bDa8V5kLWKSH",
        "colab_type": "code",
        "colab": {}
      },
      "source": [
        "# 날짜 처리 \n",
        "data = data.fillna('')\n",
        "data['year'] = data['REG_YYMM'].apply(lambda x: grap_year(x))\n",
        "data['month'] = data['REG_YYMM'].apply(lambda x: grap_month(x))\n",
        "data = data.drop(['REG_YYMM'], axis = 1)"
      ],
      "execution_count": null,
      "outputs": []
    },
    {
      "cell_type": "code",
      "metadata": {
        "id": "pEQzSthqWjMX",
        "colab_type": "code",
        "colab": {}
      },
      "source": [
        "# 데이터 정제\n",
        "df = data.copy()\n",
        "df = df.drop(['CARD_CCG_NM', 'HOM_CCG_NM'], axis=1)\n",
        "\n",
        "columns = ['CARD_SIDO_NM', 'STD_CLSS_NM', 'HOM_SIDO_NM', 'AGE', 'SEX_CTGO_CD', 'FLC', 'year', 'month']\n",
        "df = df.groupby(columns).sum().reset_index(drop=False)"
      ],
      "execution_count": null,
      "outputs": []
    },
    {
      "cell_type": "code",
      "metadata": {
        "id": "6pMxgIIhW-0u",
        "colab_type": "code",
        "colab": {}
      },
      "source": [
        "dtypes = df.dtypes\n",
        "encoders = {}\n",
        "for column in df.columns:\n",
        "    if str(dtypes[column]) == 'object':\n",
        "        encoder = LabelEncoder()\n",
        "        encoder.fit(df[column])\n",
        "        encoders[column] = encoder\n",
        "        \n",
        "df_num = df.copy()        \n",
        "for column in encoders.keys():\n",
        "    encoder = encoders[column]\n",
        "    df_num[column] = encoder.transform(df[column])"
      ],
      "execution_count": null,
      "outputs": []
    },
    {
      "cell_type": "code",
      "metadata": {
        "id": "lzn848L-Xpgv",
        "colab_type": "code",
        "colab": {}
      },
      "source": [
        "# feature, target 설정\n",
        "train_num = df_num.sample(frac=1, random_state=0)\n",
        "train_features = train_num.drop(['CSTMR_CNT', 'AMT', 'CNT'], axis=1)\n",
        "train_target = np.log1p(train_num['AMT'])"
      ],
      "execution_count": null,
      "outputs": []
    },
    {
      "cell_type": "code",
      "metadata": {
        "id": "mesb3M-FXsw_",
        "colab_type": "code",
        "colab": {}
      },
      "source": [
        "model = RandomForestRegressor(n_jobs=-1, random_state=0)\n",
        "model.fit(train_features, train_target)"
      ],
      "execution_count": null,
      "outputs": []
    },
    {
      "cell_type": "code",
      "metadata": {
        "id": "zJohWtXQXvEP",
        "colab_type": "code",
        "colab": {}
      },
      "source": [
        "# 예측 탬플릿 형태 \n",
        "CARD_SIDO_NMs = df_num['CARD_SIDO_NM'].unique()\n",
        "STD_CLSS_NMs  = df_num['STD_CLSS_NM'].unique()\n",
        "HOM_SIDO_NMs  = df_num['HOM_SIDO_NM'].unique()\n",
        "AGEs          = df_num['AGE'].unique()\n",
        "SEX_CTGO_CDs  = df_num['SEX_CTGO_CD'].unique()\n",
        "FLCs          = df_num['FLC'].unique()\n",
        "years         = [2020]\n",
        "months        = [4, 7]\n",
        "\n",
        "temp = []\n",
        "for CARD_SIDO_NM in CARD_SIDO_NMs:\n",
        "    for STD_CLSS_NM in STD_CLSS_NMs:\n",
        "        for HOM_SIDO_NM in HOM_SIDO_NMs:\n",
        "            for AGE in AGEs:\n",
        "                for SEX_CTGO_CD in SEX_CTGO_CDs:\n",
        "                    for FLC in FLCs:\n",
        "                        for year in years:\n",
        "                            for month in months:\n",
        "                                temp.append([CARD_SIDO_NM, STD_CLSS_NM, HOM_SIDO_NM, AGE, SEX_CTGO_CD, FLC, year, month])\n",
        "temp = np.array(temp)\n",
        "temp = pd.DataFrame(data=temp, columns=train_features.columns)"
      ],
      "execution_count": null,
      "outputs": []
    },
    {
      "cell_type": "code",
      "metadata": {
        "id": "wev4RTlQYCV2",
        "colab_type": "code",
        "colab": {}
      },
      "source": [
        "# 예측\n",
        "pred = model.predict(temp)\n",
        "pred = np.expm1(pred)\n",
        "temp['AMT'] = np.round(pred, 0)\n",
        "temp['REG_YYMM'] = temp['year']*100 + temp['month']\n",
        "temp = temp[['REG_YYMM', 'CARD_SIDO_NM', 'STD_CLSS_NM', 'AMT']]\n",
        "temp = temp.groupby(['REG_YYMM', 'CARD_SIDO_NM', 'STD_CLSS_NM']).sum().reset_index(drop=False)"
      ],
      "execution_count": null,
      "outputs": []
    },
    {
      "cell_type": "code",
      "metadata": {
        "id": "X8-QX-z3YEKm",
        "colab_type": "code",
        "colab": {}
      },
      "source": [
        "# 디코딩 \n",
        "temp['CARD_SIDO_NM'] = encoders['CARD_SIDO_NM'].inverse_transform(temp['CARD_SIDO_NM'])\n",
        "temp['STD_CLSS_NM'] = encoders['STD_CLSS_NM'].inverse_transform(temp['STD_CLSS_NM'])"
      ],
      "execution_count": null,
      "outputs": []
    },
    {
      "cell_type": "code",
      "metadata": {
        "id": "zKeSulNAYFnW",
        "colab_type": "code",
        "colab": {}
      },
      "source": [
        "# 제출 파일 만들기\n",
        "submission = pd.read_csv('data/submission.csv', index_col=0)\n",
        "submission = submission.drop(['AMT'], axis=1)\n",
        "submission = submission.merge(temp, left_on=['REG_YYMM', 'CARD_SIDO_NM', 'STD_CLSS_NM'], right_on=['REG_YYMM', 'CARD_SIDO_NM', 'STD_CLSS_NM'], how='left')\n",
        "submission.index.name = 'id'\n",
        "submission.to_csv('submission.csv', encoding='utf-8-sig')\n",
        "submission.head()"
      ],
      "execution_count": null,
      "outputs": []
    },
    {
      "cell_type": "code",
      "metadata": {
        "id": "l-6URBkxYKNu",
        "colab_type": "code",
        "colab": {}
      },
      "source": [
        ""
      ],
      "execution_count": null,
      "outputs": []
    }
  ]
}